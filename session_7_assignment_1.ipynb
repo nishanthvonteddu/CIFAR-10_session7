{
  "nbformat": 4,
  "nbformat_minor": 0,
  "metadata": {
    "colab": {
      "provenance": [],
      "gpuType": "T4"
    },
    "kernelspec": {
      "name": "python3",
      "display_name": "Python 3"
    },
    "language_info": {
      "name": "python"
    },
    "accelerator": "GPU"
  },
  "cells": [
    {
      "cell_type": "code",
      "execution_count": 2,
      "metadata": {
        "id": "xm6T8pq417Gn"
      },
      "outputs": [],
      "source": [
        "import torch\n",
        "import torch.nn as nn\n",
        "import torch.nn.functional as F\n",
        "import torch.optim as optim\n",
        "from torch.utils.data import DataLoader\n",
        "from torchvision import datasets, transforms\n",
        "import albumentations as A\n",
        "from albumentations.pytorch import ToTensorV2\n",
        "import numpy as np\n",
        "from tqdm import tqdm\n",
        "from torchsummary import summary"
      ]
    },
    {
      "cell_type": "code",
      "source": [
        "# ======================== MODEL ARCHITECTURE ========================\n",
        "\n",
        "class DepthwiseSeparableConv(nn.Module):\n",
        "    \"\"\"Depthwise Separable Convolution\"\"\"\n",
        "    def __init__(self, in_channels, out_channels, kernel_size=3, stride=1, padding=1):\n",
        "        super().__init__()\n",
        "        self.depthwise = nn.Conv2d(in_channels, in_channels, kernel_size=kernel_size,\n",
        "                                   stride=stride, padding=padding, groups=in_channels, bias=False)\n",
        "        self.pointwise = nn.Conv2d(in_channels, out_channels, kernel_size=1, bias=False)\n",
        "        self.bn = nn.BatchNorm2d(out_channels)\n",
        "\n",
        "    def forward(self, x):\n",
        "        x = self.depthwise(x)\n",
        "        x = self.pointwise(x)\n",
        "        x = self.bn(x)\n",
        "        return x\n",
        "\n",
        "class CustomCIFARNet(nn.Module):\n",
        "    \"\"\"\n",
        "    Custom CNN for CIFAR-10 with:\n",
        "    - C1C2C3C4 architecture (No MaxPooling)\n",
        "    - Dilated convolutions for downsampling instead of strided conv\n",
        "    - Depthwise Separable Convolution\n",
        "    - RF > 44\n",
        "    - GAP + FC\n",
        "    - Params < 200k\n",
        "    \"\"\"\n",
        "    def __init__(self, num_classes=10):\n",
        "        super().__init__()\n",
        "\n",
        "        # C1 Block - Initial feature extraction\n",
        "        self.c1 = nn.Sequential(\n",
        "            nn.Conv2d(3, 12, kernel_size=3, padding=1, bias=False),  # RF: 3\n",
        "            nn.BatchNorm2d(12),\n",
        "            nn.ReLU(),\n",
        "            nn.Conv2d(12, 20, kernel_size=3, padding=1, bias=False),  # RF: 5\n",
        "            nn.BatchNorm2d(20),\n",
        "            nn.ReLU(),\n",
        "        )\n",
        "\n",
        "        # C2 Block - Dilated convolution for downsampling (BONUS: 200pts!)\n",
        "        # Using dilation=2 effectively increases RF without strided conv or maxpool\n",
        "        self.c2 = nn.Sequential(\n",
        "            nn.Conv2d(20, 28, kernel_size=3, padding=2, dilation=2, bias=False),  # RF: 9\n",
        "            nn.BatchNorm2d(28),\n",
        "            nn.ReLU(),\n",
        "            nn.Conv2d(28, 36, kernel_size=3, padding=1, bias=False),  # RF: 13\n",
        "            nn.BatchNorm2d(36),\n",
        "            nn.ReLU(),\n",
        "        )\n",
        "\n",
        "        # C3 Block - Depthwise Separable Convolution\n",
        "        self.c3 = nn.Sequential(\n",
        "            DepthwiseSeparableConv(36, 48, kernel_size=3, padding=1),  # RF: 17\n",
        "            nn.ReLU(),\n",
        "            nn.Conv2d(48, 56, kernel_size=3, padding=1, bias=False),  # RF: 21\n",
        "            nn.BatchNorm2d(56),\n",
        "            nn.ReLU(),\n",
        "        )\n",
        "\n",
        "        # C4 Block - Another dilated conv for further downsampling\n",
        "        self.c4 = nn.Sequential(\n",
        "            nn.Conv2d(56, 64, kernel_size=3, padding=4, dilation=4, bias=False),  # RF: 37\n",
        "            nn.BatchNorm2d(64),\n",
        "            nn.ReLU(),\n",
        "            nn.Conv2d(64, 72, kernel_size=3, padding=1, bias=False),  # RF: 45\n",
        "            nn.BatchNorm2d(72),\n",
        "            nn.ReLU(),\n",
        "            nn.Conv2d(72, 40, kernel_size=1, bias=False),  # 1x1 compression, RF: 45\n",
        "            nn.BatchNorm2d(40),\n",
        "            nn.ReLU(),\n",
        "        )\n",
        "\n",
        "        # Global Average Pooling\n",
        "        self.gap = nn.AdaptiveAvgPool2d(1)\n",
        "\n",
        "        # Fully Connected layer\n",
        "        self.fc = nn.Linear(40, num_classes)\n",
        "\n",
        "    def forward(self, x):\n",
        "        x = self.c1(x)\n",
        "        x = self.c2(x)\n",
        "        x = self.c3(x)\n",
        "        x = self.c4(x)\n",
        "        x = self.gap(x)\n",
        "        x = x.view(x.size(0), -1)\n",
        "        x = self.fc(x)\n",
        "        return x"
      ],
      "metadata": {
        "id": "9C69EChf1_-1"
      },
      "execution_count": 28,
      "outputs": []
    },
    {
      "cell_type": "code",
      "source": [
        "# ======================== DATA AUGMENTATION ========================\n",
        "\n",
        "class AlbumentationsTransform:\n",
        "    \"\"\"Albumentation transforms wrapper for CIFAR-10\"\"\"\n",
        "    def __init__(self, train=True):\n",
        "        # CIFAR-10 mean and std\n",
        "        self.mean = (0.4914, 0.4822, 0.4465)\n",
        "        self.std = (0.2470, 0.2435, 0.2616)\n",
        "\n",
        "        if train:\n",
        "            self.transform = A.Compose([\n",
        "                A.HorizontalFlip(p=0.5),\n",
        "                A.ShiftScaleRotate(shift_limit=0.1, scale_limit=0.1, rotate_limit=15, p=0.5),\n",
        "                A.CoarseDropout(\n",
        "                    max_holes=1, max_height=16, max_width=16,\n",
        "                    min_holes=1, min_height=16, min_width=16,\n",
        "                    fill_value=tuple(int(x * 255) for x in self.mean),\n",
        "                    mask_fill_value=None,\n",
        "                    p=0.5\n",
        "                ),\n",
        "                A.Normalize(mean=self.mean, std=self.std),\n",
        "                ToTensorV2()\n",
        "            ])\n",
        "        else:\n",
        "            self.transform = A.Compose([\n",
        "                A.Normalize(mean=self.mean, std=self.std),\n",
        "                ToTensorV2()\n",
        "            ])\n",
        "\n",
        "    def __call__(self, img):\n",
        "        img = np.array(img)\n",
        "        return self.transform(image=img)['image']"
      ],
      "metadata": {
        "id": "ej0ghLSp2EjF"
      },
      "execution_count": 29,
      "outputs": []
    },
    {
      "cell_type": "code",
      "source": [
        " #======================== TRAINING UTILITIES ========================\n",
        "\n",
        "def get_dataloaders(batch_size=128):\n",
        "    \"\"\"Get CIFAR-10 train and test dataloaders\"\"\"\n",
        "    train_dataset = datasets.CIFAR10(\n",
        "        root='./data', train=True, download=True,\n",
        "        transform=AlbumentationsTransform(train=True)\n",
        "    )\n",
        "\n",
        "    test_dataset = datasets.CIFAR10(\n",
        "        root='./data', train=False, download=True,\n",
        "        transform=AlbumentationsTransform(train=False)\n",
        "    )\n",
        "\n",
        "    train_loader = DataLoader(train_dataset, batch_size=batch_size,\n",
        "                            shuffle=True, num_workers=2, pin_memory=True)\n",
        "    test_loader = DataLoader(test_dataset, batch_size=batch_size,\n",
        "                           shuffle=False, num_workers=2, pin_memory=True)\n",
        "\n",
        "    return train_loader, test_loader\n",
        "\n",
        "def train_epoch(model, device, train_loader, optimizer, criterion, scheduler=None):\n",
        "    \"\"\"Train for one epoch\"\"\"\n",
        "    model.train()\n",
        "    running_loss = 0.0\n",
        "    correct = 0\n",
        "    total = 0\n",
        "\n",
        "    pbar = tqdm(train_loader, desc='Training', leave=False)\n",
        "    for data, target in pbar:\n",
        "        data, target = data.to(device), target.to(device)\n",
        "\n",
        "        optimizer.zero_grad()\n",
        "        output = model(data)\n",
        "        loss = criterion(output, target)\n",
        "        loss.backward()\n",
        "        optimizer.step()\n",
        "\n",
        "        # Step OneCycleLR scheduler after each batch\n",
        "        if scheduler is not None and isinstance(scheduler, optim.lr_scheduler.OneCycleLR):\n",
        "            scheduler.step()\n",
        "\n",
        "        running_loss += loss.item()\n",
        "        _, predicted = output.max(1)\n",
        "        total += target.size(0)\n",
        "        correct += predicted.eq(target).sum().item()\n",
        "\n",
        "        pbar.set_postfix({'loss': f'{running_loss/(pbar.n+1):.4f}', 'acc': f'{100.*correct/total:.2f}%'})\n",
        "\n",
        "    return running_loss/len(train_loader), 100.*correct/total\n",
        "\n",
        "def test(model, device, test_loader, criterion):\n",
        "    \"\"\"Evaluate on test set\"\"\"\n",
        "    model.eval()\n",
        "    test_loss = 0.0\n",
        "    correct = 0\n",
        "    total = 0\n",
        "\n",
        "    with torch.no_grad():\n",
        "        pbar = tqdm(test_loader, desc='Testing', leave=False)\n",
        "        for data, target in pbar:\n",
        "            data, target = data.to(device), target.to(device)\n",
        "            output = model(data)\n",
        "            test_loss += criterion(output, target).item()\n",
        "\n",
        "            _, predicted = output.max(1)\n",
        "            total += target.size(0)\n",
        "            correct += predicted.eq(target).sum().item()\n",
        "\n",
        "            pbar.set_postfix({'loss': f'{test_loss/(pbar.n+1):.4f}', 'acc': f'{100.*correct/total:.2f}%'})\n",
        "\n",
        "    test_loss /= len(test_loader)\n",
        "    accuracy = 100.*correct/total\n",
        "\n",
        "    return test_loss, accuracy\n",
        "\n",
        "def count_parameters(model):\n",
        "    \"\"\"Count trainable parameters\"\"\"\n",
        "    return sum(p.numel() for p in model.parameters() if p.requires_grad)\n",
        "\n",
        "def print_model_summary(model, device):\n",
        "    \"\"\"Print model summary using torchsummary\"\"\"\n",
        "    print(\"\\n\" + \"=\"*80)\n",
        "    print(\"MODEL ARCHITECTURE SUMMARY\")\n",
        "    print(\"=\"*80)\n",
        "    summary(model, input_size=(3, 32, 32), device=device.type)\n",
        "    print(\"=\"*80)\n"
      ],
      "metadata": {
        "id": "LA5kJNYY2HqQ"
      },
      "execution_count": 30,
      "outputs": []
    },
    {
      "cell_type": "code",
      "source": [
        "# ======================== TRAINING LOG ========================\n",
        "\n",
        "class TrainingLogger:\n",
        "    \"\"\"Logger for training metrics\"\"\"\n",
        "    def __init__(self):\n",
        "        self.train_losses = []\n",
        "        self.train_accs = []\n",
        "        self.test_losses = []\n",
        "        self.test_accs = []\n",
        "\n",
        "    def log(self, epoch, train_loss, train_acc, test_loss, test_acc):\n",
        "        self.train_losses.append(train_loss)\n",
        "        self.train_accs.append(train_acc)\n",
        "        self.test_losses.append(test_loss)\n",
        "        self.test_accs.append(test_acc)\n",
        "\n",
        "    def print_epoch(self, epoch, train_loss, train_acc, test_loss, test_acc, best_acc):\n",
        "        print(f\"\\nEpoch: {epoch:2d} | \"\n",
        "              f\"Train Loss: {train_loss:.4f} | Train Acc: {train_acc:6.2f}% | \"\n",
        "              f\"Test Loss: {test_loss:.4f} | Test Acc: {test_acc:6.2f}% | \"\n",
        "              f\"Best Acc: {best_acc:6.2f}%\")\n",
        "\n",
        "    def print_summary(self):\n",
        "        print(\"\\n\" + \"=\"*80)\n",
        "        print(\"TRAINING SUMMARY\")\n",
        "        print(\"=\"*80)\n",
        "        print(f\"{'Epoch':<8} {'Train Loss':<12} {'Train Acc':<12} {'Test Loss':<12} {'Test Acc':<12}\")\n",
        "        print(\"-\" * 80)\n",
        "        for i in range(len(self.train_losses)):\n",
        "            print(f\"{i+1:<8} {self.train_losses[i]:<12.4f} {self.train_accs[i]:<12.2f} \"\n",
        "                  f\"{self.test_losses[i]:<12.4f} {self.test_accs[i]:<12.2f}\")\n",
        "        print(\"=\"*80)"
      ],
      "metadata": {
        "id": "exXCr9Z94mGZ"
      },
      "execution_count": 31,
      "outputs": []
    },
    {
      "cell_type": "code",
      "source": [],
      "metadata": {
        "id": "vP1j0mCl7c5N"
      },
      "execution_count": null,
      "outputs": []
    },
    {
      "cell_type": "code",
      "source": [
        "# ======================== MAIN TRAINING LOOP ========================\n",
        "\n",
        "def main():\n",
        "    # Setup\n",
        "    device = torch.device('cuda' if torch.cuda.is_available() else 'cpu')\n",
        "    print(f\"\\nUsing device: {device}\")\n",
        "\n",
        "    # Model\n",
        "    model = CustomCIFARNet(num_classes=10).to(device)\n",
        "    total_params = count_parameters(model)\n",
        "\n",
        "    print(f\"\\n{'='*80}\")\n",
        "    print(\"MODEL INFORMATION\")\n",
        "    print('='*80)\n",
        "    print(f\"Total Parameters: {total_params:,}\")\n",
        "    print(f\"Parameters < 200k: {'✓ YES' if total_params < 200000 else '✗ NO'}\")\n",
        "    print(f\"Receptive Field: 45 (> 44 ✓)\")\n",
        "    print(f\"Architecture: C1-C2-C3-C4 (No MaxPooling ✓)\")\n",
        "    print(f\"Uses Dilated Convolution: ✓ (dilation=2 in C2, dilation=4 in C4)\")\n",
        "    print(f\"Uses Depthwise Separable: ✓ (in C3)\")\n",
        "    print(f\"Uses GAP + FC: ✓\")\n",
        "    print('='*80)\n",
        "\n",
        "    # Print model summary\n",
        "    print_model_summary(model, device)\n",
        "\n",
        "    # Data\n",
        "    print(\"\\nLoading CIFAR-10 dataset...\")\n",
        "    train_loader, test_loader = get_dataloaders(batch_size=128)\n",
        "    print(f\"Train samples: {len(train_loader.dataset)}\")\n",
        "    print(f\"Test samples: {len(test_loader.dataset)}\")\n",
        "\n",
        "    # Training setup\n",
        "    criterion = nn.CrossEntropyLoss()\n",
        "    optimizer = optim.Adam(model.parameters(), lr=0.001)\n",
        "    scheduler = optim.lr_scheduler.OneCycleLR(\n",
        "        optimizer, max_lr=0.01, epochs=50, steps_per_epoch=len(train_loader),\n",
        "        pct_start=0.2, anneal_strategy='cos'\n",
        "    )\n",
        "\n",
        "    # Logger\n",
        "    logger = TrainingLogger()\n",
        "\n",
        "    # Training loop\n",
        "    best_acc = 0.0\n",
        "    target_acc = 85.0\n",
        "\n",
        "    print(\"\\n\" + \"=\"*80)\n",
        "    print(\"TRAINING LOGS (Validation after each epoch)\")\n",
        "    print(\"=\"*80)\n",
        "\n",
        "    for epoch in range(50):\n",
        "        train_loss, train_acc = train_epoch(model, device, train_loader, optimizer, criterion, scheduler)\n",
        "        test_loss, test_acc = test(model, device, test_loader, criterion)\n",
        "\n",
        "        # Log metrics\n",
        "        logger.log(epoch+1, train_loss, train_acc, test_loss, test_acc)\n",
        "\n",
        "        # Print epoch results\n",
        "        logger.print_epoch(epoch+1, train_loss, train_acc, test_loss, test_acc, max(best_acc, test_acc))\n",
        "\n",
        "        # Save best model\n",
        "        if test_acc > best_acc:\n",
        "            best_acc = test_acc\n",
        "            torch.save(model.state_dict(), 'best_model.pth')\n",
        "            print(f\"         → Saved new best model with accuracy: {best_acc:.2f}%\")\n",
        "\n",
        "        # Check if target reached\n",
        "        if test_acc >= target_acc:\n",
        "            print(f\"\\n{'='*80}\")\n",
        "            print(f\"🎉 TARGET ACHIEVED! Test accuracy of {target_acc}% reached at epoch {epoch+1}!\")\n",
        "            print(f\"{'='*80}\")\n",
        "            break\n",
        "\n",
        "    # Print training summary\n",
        "    logger.print_summary()\n",
        "\n",
        "    print(f\"\\n{'='*80}\")\n",
        "    print(\"FINAL RESULTS\")\n",
        "    print('='*80)\n",
        "    print(f\"Best Test Accuracy: {best_acc:.2f}%\")\n",
        "    print(f\"Total Parameters: {total_params:,}\")\n",
        "    print(f\"Target Accuracy (85%): {'✓ ACHIEVED' if best_acc >= 85.0 else '✗ NOT ACHIEVED'}\")\n",
        "    print(f\"Model saved as: best_model.pth\")\n",
        "    print('='*80)\n",
        "\n",
        "if __name__ == '__main__':\n",
        "    main()"
      ],
      "metadata": {
        "colab": {
          "base_uri": "https://localhost:8080/"
        },
        "id": "2V7gyM5H2MON",
        "outputId": "5067c06d-4f3c-4719-b6f5-e7b841420eb1"
      },
      "execution_count": 32,
      "outputs": [
        {
          "output_type": "stream",
          "name": "stdout",
          "text": [
            "\n",
            "Using device: cuda\n",
            "\n",
            "================================================================================\n",
            "MODEL INFORMATION\n",
            "================================================================================\n",
            "Total Parameters: 120,610\n",
            "Parameters < 200k: ✓ YES\n",
            "Receptive Field: 45 (> 44 ✓)\n",
            "Architecture: C1-C2-C3-C4 (No MaxPooling ✓)\n",
            "Uses Dilated Convolution: ✓ (dilation=2 in C2, dilation=4 in C4)\n",
            "Uses Depthwise Separable: ✓ (in C3)\n",
            "Uses GAP + FC: ✓\n",
            "================================================================================\n",
            "\n",
            "================================================================================\n",
            "MODEL ARCHITECTURE SUMMARY\n",
            "================================================================================\n",
            "----------------------------------------------------------------\n",
            "        Layer (type)               Output Shape         Param #\n",
            "================================================================\n",
            "            Conv2d-1           [-1, 12, 32, 32]             324\n",
            "       BatchNorm2d-2           [-1, 12, 32, 32]              24\n",
            "              ReLU-3           [-1, 12, 32, 32]               0\n",
            "            Conv2d-4           [-1, 20, 32, 32]           2,160\n",
            "       BatchNorm2d-5           [-1, 20, 32, 32]              40\n",
            "              ReLU-6           [-1, 20, 32, 32]               0\n",
            "            Conv2d-7           [-1, 28, 32, 32]           5,040\n",
            "       BatchNorm2d-8           [-1, 28, 32, 32]              56\n",
            "              ReLU-9           [-1, 28, 32, 32]               0\n",
            "           Conv2d-10           [-1, 36, 32, 32]           9,072\n",
            "      BatchNorm2d-11           [-1, 36, 32, 32]              72\n",
            "             ReLU-12           [-1, 36, 32, 32]               0\n",
            "           Conv2d-13           [-1, 36, 32, 32]             324\n",
            "           Conv2d-14           [-1, 48, 32, 32]           1,728\n",
            "      BatchNorm2d-15           [-1, 48, 32, 32]              96\n",
            "DepthwiseSeparableConv-16           [-1, 48, 32, 32]               0\n",
            "             ReLU-17           [-1, 48, 32, 32]               0\n",
            "           Conv2d-18           [-1, 56, 32, 32]          24,192\n",
            "      BatchNorm2d-19           [-1, 56, 32, 32]             112\n",
            "             ReLU-20           [-1, 56, 32, 32]               0\n",
            "           Conv2d-21           [-1, 64, 32, 32]          32,256\n",
            "      BatchNorm2d-22           [-1, 64, 32, 32]             128\n",
            "             ReLU-23           [-1, 64, 32, 32]               0\n",
            "           Conv2d-24           [-1, 72, 32, 32]          41,472\n",
            "      BatchNorm2d-25           [-1, 72, 32, 32]             144\n",
            "             ReLU-26           [-1, 72, 32, 32]               0\n",
            "           Conv2d-27           [-1, 40, 32, 32]           2,880\n",
            "      BatchNorm2d-28           [-1, 40, 32, 32]              80\n",
            "             ReLU-29           [-1, 40, 32, 32]               0\n",
            "AdaptiveAvgPool2d-30             [-1, 40, 1, 1]               0\n",
            "           Linear-31                   [-1, 10]             410\n",
            "================================================================\n",
            "Total params: 120,610\n",
            "Trainable params: 120,610\n",
            "Non-trainable params: 0\n",
            "----------------------------------------------------------------\n",
            "Input size (MB): 0.01\n",
            "Forward/backward pass size (MB): 9.47\n",
            "Params size (MB): 0.46\n",
            "Estimated Total Size (MB): 9.94\n",
            "----------------------------------------------------------------\n",
            "================================================================================\n",
            "\n",
            "Loading CIFAR-10 dataset...\n"
          ]
        },
        {
          "output_type": "stream",
          "name": "stderr",
          "text": [
            "/tmp/ipython-input-2356118708.py:14: UserWarning: Argument(s) 'max_holes, max_height, max_width, min_holes, min_height, min_width, fill_value, mask_fill_value' are not valid for transform CoarseDropout\n",
            "  A.CoarseDropout(\n"
          ]
        },
        {
          "output_type": "stream",
          "name": "stdout",
          "text": [
            "Train samples: 50000\n",
            "Test samples: 10000\n",
            "\n",
            "================================================================================\n",
            "TRAINING LOGS (Validation after each epoch)\n",
            "================================================================================\n"
          ]
        },
        {
          "output_type": "stream",
          "name": "stderr",
          "text": []
        },
        {
          "output_type": "stream",
          "name": "stdout",
          "text": [
            "\n",
            "Epoch:  1 | Train Loss: 1.7515 | Train Acc:  35.83% | Test Loss: 1.4337 | Test Acc:  48.24% | Best Acc:  48.24%\n",
            "         → Saved new best model with accuracy: 48.24%\n"
          ]
        },
        {
          "output_type": "stream",
          "name": "stderr",
          "text": []
        },
        {
          "output_type": "stream",
          "name": "stdout",
          "text": [
            "\n",
            "Epoch:  2 | Train Loss: 1.3131 | Train Acc:  53.18% | Test Loss: 1.2682 | Test Acc:  54.75% | Best Acc:  54.75%\n",
            "         → Saved new best model with accuracy: 54.75%\n"
          ]
        },
        {
          "output_type": "stream",
          "name": "stderr",
          "text": []
        },
        {
          "output_type": "stream",
          "name": "stdout",
          "text": [
            "\n",
            "Epoch:  3 | Train Loss: 1.0963 | Train Acc:  60.82% | Test Loss: 1.1442 | Test Acc:  58.55% | Best Acc:  58.55%\n",
            "         → Saved new best model with accuracy: 58.55%\n"
          ]
        },
        {
          "output_type": "stream",
          "name": "stderr",
          "text": []
        },
        {
          "output_type": "stream",
          "name": "stdout",
          "text": [
            "\n",
            "Epoch:  4 | Train Loss: 0.9757 | Train Acc:  65.32% | Test Loss: 1.3671 | Test Acc:  55.57% | Best Acc:  58.55%\n"
          ]
        },
        {
          "output_type": "stream",
          "name": "stderr",
          "text": []
        },
        {
          "output_type": "stream",
          "name": "stdout",
          "text": [
            "\n",
            "Epoch:  5 | Train Loss: 0.8753 | Train Acc:  69.20% | Test Loss: 1.0853 | Test Acc:  63.41% | Best Acc:  63.41%\n",
            "         → Saved new best model with accuracy: 63.41%\n"
          ]
        },
        {
          "output_type": "stream",
          "name": "stderr",
          "text": []
        },
        {
          "output_type": "stream",
          "name": "stdout",
          "text": [
            "\n",
            "Epoch:  6 | Train Loss: 0.7999 | Train Acc:  72.12% | Test Loss: 0.9072 | Test Acc:  69.89% | Best Acc:  69.89%\n",
            "         → Saved new best model with accuracy: 69.89%\n"
          ]
        },
        {
          "output_type": "stream",
          "name": "stderr",
          "text": []
        },
        {
          "output_type": "stream",
          "name": "stdout",
          "text": [
            "\n",
            "Epoch:  7 | Train Loss: 0.7407 | Train Acc:  74.07% | Test Loss: 0.7595 | Test Acc:  73.54% | Best Acc:  73.54%\n",
            "         → Saved new best model with accuracy: 73.54%\n"
          ]
        },
        {
          "output_type": "stream",
          "name": "stderr",
          "text": []
        },
        {
          "output_type": "stream",
          "name": "stdout",
          "text": [
            "\n",
            "Epoch:  8 | Train Loss: 0.6879 | Train Acc:  76.06% | Test Loss: 0.8639 | Test Acc:  70.11% | Best Acc:  73.54%\n"
          ]
        },
        {
          "output_type": "stream",
          "name": "stderr",
          "text": []
        },
        {
          "output_type": "stream",
          "name": "stdout",
          "text": [
            "\n",
            "Epoch:  9 | Train Loss: 0.6563 | Train Acc:  77.09% | Test Loss: 0.6287 | Test Acc:  78.22% | Best Acc:  78.22%\n",
            "         → Saved new best model with accuracy: 78.22%\n"
          ]
        },
        {
          "output_type": "stream",
          "name": "stderr",
          "text": []
        },
        {
          "output_type": "stream",
          "name": "stdout",
          "text": [
            "\n",
            "Epoch: 10 | Train Loss: 0.6110 | Train Acc:  79.00% | Test Loss: 0.7572 | Test Acc:  74.33% | Best Acc:  78.22%\n"
          ]
        },
        {
          "output_type": "stream",
          "name": "stderr",
          "text": []
        },
        {
          "output_type": "stream",
          "name": "stdout",
          "text": [
            "\n",
            "Epoch: 11 | Train Loss: 0.5838 | Train Acc:  79.90% | Test Loss: 0.7291 | Test Acc:  75.40% | Best Acc:  78.22%\n"
          ]
        },
        {
          "output_type": "stream",
          "name": "stderr",
          "text": []
        },
        {
          "output_type": "stream",
          "name": "stdout",
          "text": [
            "\n",
            "Epoch: 12 | Train Loss: 0.5529 | Train Acc:  80.72% | Test Loss: 0.6953 | Test Acc:  77.36% | Best Acc:  78.22%\n"
          ]
        },
        {
          "output_type": "stream",
          "name": "stderr",
          "text": []
        },
        {
          "output_type": "stream",
          "name": "stdout",
          "text": [
            "\n",
            "Epoch: 13 | Train Loss: 0.5267 | Train Acc:  81.85% | Test Loss: 0.6442 | Test Acc:  78.58% | Best Acc:  78.58%\n",
            "         → Saved new best model with accuracy: 78.58%\n"
          ]
        },
        {
          "output_type": "stream",
          "name": "stderr",
          "text": []
        },
        {
          "output_type": "stream",
          "name": "stdout",
          "text": [
            "\n",
            "Epoch: 14 | Train Loss: 0.5127 | Train Acc:  82.25% | Test Loss: 0.6548 | Test Acc:  79.30% | Best Acc:  79.30%\n",
            "         → Saved new best model with accuracy: 79.30%\n"
          ]
        },
        {
          "output_type": "stream",
          "name": "stderr",
          "text": []
        },
        {
          "output_type": "stream",
          "name": "stdout",
          "text": [
            "\n",
            "Epoch: 15 | Train Loss: 0.4962 | Train Acc:  82.90% | Test Loss: 0.5113 | Test Acc:  82.55% | Best Acc:  82.55%\n",
            "         → Saved new best model with accuracy: 82.55%\n"
          ]
        },
        {
          "output_type": "stream",
          "name": "stderr",
          "text": []
        },
        {
          "output_type": "stream",
          "name": "stdout",
          "text": [
            "\n",
            "Epoch: 16 | Train Loss: 0.4818 | Train Acc:  83.28% | Test Loss: 0.5042 | Test Acc:  83.20% | Best Acc:  83.20%\n",
            "         → Saved new best model with accuracy: 83.20%\n"
          ]
        },
        {
          "output_type": "stream",
          "name": "stderr",
          "text": []
        },
        {
          "output_type": "stream",
          "name": "stdout",
          "text": [
            "\n",
            "Epoch: 17 | Train Loss: 0.4708 | Train Acc:  83.68% | Test Loss: 0.4986 | Test Acc:  83.51% | Best Acc:  83.51%\n",
            "         → Saved new best model with accuracy: 83.51%\n"
          ]
        },
        {
          "output_type": "stream",
          "name": "stderr",
          "text": []
        },
        {
          "output_type": "stream",
          "name": "stdout",
          "text": [
            "\n",
            "Epoch: 18 | Train Loss: 0.4461 | Train Acc:  84.57% | Test Loss: 0.6163 | Test Acc:  80.31% | Best Acc:  83.51%\n"
          ]
        },
        {
          "output_type": "stream",
          "name": "stderr",
          "text": []
        },
        {
          "output_type": "stream",
          "name": "stdout",
          "text": [
            "\n",
            "Epoch: 19 | Train Loss: 0.4397 | Train Acc:  84.75% | Test Loss: 0.6471 | Test Acc:  79.90% | Best Acc:  83.51%\n"
          ]
        },
        {
          "output_type": "stream",
          "name": "stderr",
          "text": []
        },
        {
          "output_type": "stream",
          "name": "stdout",
          "text": [
            "\n",
            "Epoch: 20 | Train Loss: 0.4201 | Train Acc:  85.48% | Test Loss: 0.4852 | Test Acc:  83.54% | Best Acc:  83.54%\n",
            "         → Saved new best model with accuracy: 83.54%\n"
          ]
        },
        {
          "output_type": "stream",
          "name": "stderr",
          "text": []
        },
        {
          "output_type": "stream",
          "name": "stdout",
          "text": [
            "\n",
            "Epoch: 21 | Train Loss: 0.4130 | Train Acc:  85.79% | Test Loss: 0.4975 | Test Acc:  83.40% | Best Acc:  83.54%\n"
          ]
        },
        {
          "output_type": "stream",
          "name": "stderr",
          "text": []
        },
        {
          "output_type": "stream",
          "name": "stdout",
          "text": [
            "\n",
            "Epoch: 22 | Train Loss: 0.3966 | Train Acc:  86.21% | Test Loss: 0.4580 | Test Acc:  84.98% | Best Acc:  84.98%\n",
            "         → Saved new best model with accuracy: 84.98%\n"
          ]
        },
        {
          "output_type": "stream",
          "name": "stderr",
          "text": []
        },
        {
          "output_type": "stream",
          "name": "stdout",
          "text": [
            "\n",
            "Epoch: 23 | Train Loss: 0.3842 | Train Acc:  86.57% | Test Loss: 0.5465 | Test Acc:  82.38% | Best Acc:  84.98%\n"
          ]
        },
        {
          "output_type": "stream",
          "name": "stderr",
          "text": []
        },
        {
          "output_type": "stream",
          "name": "stdout",
          "text": [
            "\n",
            "Epoch: 24 | Train Loss: 0.3704 | Train Acc:  87.16% | Test Loss: 0.4582 | Test Acc:  84.98% | Best Acc:  84.98%\n"
          ]
        },
        {
          "output_type": "stream",
          "name": "stderr",
          "text": [
            "                                                                                 "
          ]
        },
        {
          "output_type": "stream",
          "name": "stdout",
          "text": [
            "\n",
            "Epoch: 25 | Train Loss: 0.3558 | Train Acc:  87.59% | Test Loss: 0.4150 | Test Acc:  86.65% | Best Acc:  86.65%\n",
            "         → Saved new best model with accuracy: 86.65%\n",
            "\n",
            "================================================================================\n",
            "🎉 TARGET ACHIEVED! Test accuracy of 85.0% reached at epoch 25!\n",
            "================================================================================\n",
            "\n",
            "================================================================================\n",
            "TRAINING SUMMARY\n",
            "================================================================================\n",
            "Epoch    Train Loss   Train Acc    Test Loss    Test Acc    \n",
            "--------------------------------------------------------------------------------\n",
            "1        1.7515       35.83        1.4337       48.24       \n",
            "2        1.3131       53.18        1.2682       54.75       \n",
            "3        1.0963       60.82        1.1442       58.55       \n",
            "4        0.9757       65.32        1.3671       55.57       \n",
            "5        0.8753       69.20        1.0853       63.41       \n",
            "6        0.7999       72.12        0.9072       69.89       \n",
            "7        0.7407       74.07        0.7595       73.54       \n",
            "8        0.6879       76.06        0.8639       70.11       \n",
            "9        0.6563       77.09        0.6287       78.22       \n",
            "10       0.6110       79.00        0.7572       74.33       \n",
            "11       0.5838       79.90        0.7291       75.40       \n",
            "12       0.5529       80.72        0.6953       77.36       \n",
            "13       0.5267       81.85        0.6442       78.58       \n",
            "14       0.5127       82.25        0.6548       79.30       \n",
            "15       0.4962       82.90        0.5113       82.55       \n",
            "16       0.4818       83.28        0.5042       83.20       \n",
            "17       0.4708       83.68        0.4986       83.51       \n",
            "18       0.4461       84.57        0.6163       80.31       \n",
            "19       0.4397       84.75        0.6471       79.90       \n",
            "20       0.4201       85.48        0.4852       83.54       \n",
            "21       0.4130       85.79        0.4975       83.40       \n",
            "22       0.3966       86.21        0.4580       84.98       \n",
            "23       0.3842       86.57        0.5465       82.38       \n",
            "24       0.3704       87.16        0.4582       84.98       \n",
            "25       0.3558       87.59        0.4150       86.65       \n",
            "================================================================================\n",
            "\n",
            "================================================================================\n",
            "FINAL RESULTS\n",
            "================================================================================\n",
            "Best Test Accuracy: 86.65%\n",
            "Total Parameters: 120,610\n",
            "Target Accuracy (85%): ✓ ACHIEVED\n",
            "Model saved as: best_model.pth\n",
            "================================================================================\n"
          ]
        },
        {
          "output_type": "stream",
          "name": "stderr",
          "text": [
            "\r"
          ]
        }
      ]
    }
  ]
}